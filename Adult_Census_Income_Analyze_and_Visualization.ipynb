{
  "metadata": {
    "kernelspec": {
      "language": "python",
      "display_name": "Python 3",
      "name": "python3"
    },
    "language_info": {
      "pygments_lexer": "ipython3",
      "nbconvert_exporter": "python",
      "version": "3.6.4",
      "file_extension": ".py",
      "codemirror_mode": {
        "name": "ipython",
        "version": 3
      },
      "name": "python",
      "mimetype": "text/x-python"
    },
    "colab": {
      "provenance": [],
      "include_colab_link": true
    }
  },
  "nbformat_minor": 0,
  "nbformat": 4,
  "cells": [
    {
      "cell_type": "markdown",
      "metadata": {
        "id": "view-in-github",
        "colab_type": "text"
      },
      "source": [
        "<a href=\"https://colab.research.google.com/github/chrnthnkmutt/CPE393_TBA_MLOps/blob/main/Adult_Census_Income_Analyze_and_Visualization.ipynb\" target=\"_parent\"><img src=\"https://colab.research.google.com/assets/colab-badge.svg\" alt=\"Open In Colab\"/></a>"
      ]
    },
    {
      "cell_type": "markdown",
      "source": [
        "# Adult Census Income Analyze and Visualization"
      ],
      "metadata": {
        "id": "7LzPT3juIHHa"
      }
    },
    {
      "cell_type": "markdown",
      "source": [
        "As can be seen in the description of the dataset, this data was extracted from the 1994 Census bureau database by Ronny Kohavi and Barry Becker (Data Mining and Visualization, Silicon Graphics). The purpose of creating this dataset is to predict whether a person's income will be greater or less than 50K, with features such as age, education, and job.\n",
        "But in this notebook, before building a model, I analyzed the data and looked at some of its properties and made some visualizations. I hope you will like it."
      ],
      "metadata": {
        "id": "fA1u5CMeIHHb"
      }
    },
    {
      "cell_type": "markdown",
      "source": [
        "# Importing Libraries"
      ],
      "metadata": {
        "id": "7gLb-O1nIHHb"
      }
    },
    {
      "cell_type": "code",
      "source": [
        "import numpy as np\n",
        "import pandas as pd\n",
        "import seaborn as sns\n",
        "import matplotlib.pyplot as plt"
      ],
      "metadata": {
        "execution": {
          "iopub.status.busy": "2021-09-02T15:08:44.639263Z",
          "iopub.execute_input": "2021-09-02T15:08:44.639635Z",
          "iopub.status.idle": "2021-09-02T15:08:44.644206Z",
          "shell.execute_reply.started": "2021-09-02T15:08:44.639602Z",
          "shell.execute_reply": "2021-09-02T15:08:44.643313Z"
        },
        "trusted": true,
        "id": "X0_qwAt2IHHb"
      },
      "execution_count": null,
      "outputs": []
    },
    {
      "cell_type": "markdown",
      "source": [
        "# EDA"
      ],
      "metadata": {
        "id": "BOz4Dc8vIHHc"
      }
    },
    {
      "cell_type": "code",
      "source": [
        "data = pd.read_csv(\"/kaggle/input/adult-census-income/adult.csv\")"
      ],
      "metadata": {
        "execution": {
          "iopub.status.busy": "2021-09-02T13:50:32.918543Z",
          "iopub.execute_input": "2021-09-02T13:50:32.919142Z",
          "iopub.status.idle": "2021-09-02T13:50:33.057161Z",
          "shell.execute_reply.started": "2021-09-02T13:50:32.919102Z",
          "shell.execute_reply": "2021-09-02T13:50:33.056139Z"
        },
        "trusted": true,
        "id": "0fR3LHLsIHHc"
      },
      "execution_count": null,
      "outputs": []
    },
    {
      "cell_type": "code",
      "source": [
        "data.head()"
      ],
      "metadata": {
        "execution": {
          "iopub.status.busy": "2021-09-02T13:50:36.96059Z",
          "iopub.execute_input": "2021-09-02T13:50:36.961152Z",
          "iopub.status.idle": "2021-09-02T13:50:36.995735Z",
          "shell.execute_reply.started": "2021-09-02T13:50:36.961107Z",
          "shell.execute_reply": "2021-09-02T13:50:36.994862Z"
        },
        "trusted": true,
        "id": "KO9Jj36uIHHc"
      },
      "execution_count": null,
      "outputs": []
    },
    {
      "cell_type": "code",
      "source": [
        "data.info()"
      ],
      "metadata": {
        "execution": {
          "iopub.status.busy": "2021-09-02T13:57:48.497684Z",
          "iopub.execute_input": "2021-09-02T13:57:48.498211Z",
          "iopub.status.idle": "2021-09-02T13:57:48.542722Z",
          "shell.execute_reply.started": "2021-09-02T13:57:48.498181Z",
          "shell.execute_reply": "2021-09-02T13:57:48.54182Z"
        },
        "trusted": true,
        "id": "nuakw3s2IHHc"
      },
      "execution_count": null,
      "outputs": []
    },
    {
      "cell_type": "code",
      "source": [
        "data.describe()"
      ],
      "metadata": {
        "execution": {
          "iopub.status.busy": "2021-09-02T14:59:14.488854Z",
          "iopub.execute_input": "2021-09-02T14:59:14.489289Z",
          "iopub.status.idle": "2021-09-02T14:59:14.526282Z",
          "shell.execute_reply.started": "2021-09-02T14:59:14.489252Z",
          "shell.execute_reply": "2021-09-02T14:59:14.525448Z"
        },
        "trusted": true,
        "id": "10TFUMBKIHHc"
      },
      "execution_count": null,
      "outputs": []
    },
    {
      "cell_type": "code",
      "source": [
        "data.columns"
      ],
      "metadata": {
        "execution": {
          "iopub.status.busy": "2021-09-02T14:59:55.054009Z",
          "iopub.execute_input": "2021-09-02T14:59:55.054351Z",
          "iopub.status.idle": "2021-09-02T14:59:55.060438Z",
          "shell.execute_reply.started": "2021-09-02T14:59:55.054325Z",
          "shell.execute_reply": "2021-09-02T14:59:55.059536Z"
        },
        "trusted": true,
        "id": "Tr1lYL4BIHHd"
      },
      "execution_count": null,
      "outputs": []
    },
    {
      "cell_type": "code",
      "source": [
        "data.shape"
      ],
      "metadata": {
        "execution": {
          "iopub.status.busy": "2021-09-02T13:55:33.469577Z",
          "iopub.execute_input": "2021-09-02T13:55:33.469919Z",
          "iopub.status.idle": "2021-09-02T13:55:33.475374Z",
          "shell.execute_reply.started": "2021-09-02T13:55:33.469869Z",
          "shell.execute_reply": "2021-09-02T13:55:33.474771Z"
        },
        "trusted": true,
        "id": "lZOBuIXqIHHd"
      },
      "execution_count": null,
      "outputs": []
    },
    {
      "cell_type": "code",
      "source": [
        "data.isna().sum()"
      ],
      "metadata": {
        "execution": {
          "iopub.status.busy": "2021-09-02T13:51:22.974521Z",
          "iopub.execute_input": "2021-09-02T13:51:22.974873Z",
          "iopub.status.idle": "2021-09-02T13:51:23.010133Z",
          "shell.execute_reply.started": "2021-09-02T13:51:22.97484Z",
          "shell.execute_reply": "2021-09-02T13:51:23.00901Z"
        },
        "trusted": true,
        "id": "Nxs-7H8IIHHd"
      },
      "execution_count": null,
      "outputs": []
    },
    {
      "cell_type": "markdown",
      "source": [
        "> After looking for NaN values in the data, I was happy to see that there were no NaN values at all. Until I saw the question marks(\"?\") in the data :("
      ],
      "metadata": {
        "id": "QG6XV8DeIHHd"
      }
    },
    {
      "cell_type": "code",
      "source": [
        "for column in data.columns:\n",
        "    print(f\"{column} = {data[data[column] == '?'].shape[0]}\")"
      ],
      "metadata": {
        "execution": {
          "iopub.status.busy": "2021-09-02T13:55:52.404307Z",
          "iopub.execute_input": "2021-09-02T13:55:52.404753Z",
          "iopub.status.idle": "2021-09-02T13:55:52.459064Z",
          "shell.execute_reply.started": "2021-09-02T13:55:52.404725Z",
          "shell.execute_reply": "2021-09-02T13:55:52.457888Z"
        },
        "trusted": true,
        "id": "G5oYUcLqIHHd"
      },
      "execution_count": null,
      "outputs": []
    },
    {
      "cell_type": "markdown",
      "source": [
        "> But I did not get discouraged, I looked at how many of these question marks were in which features and I saw that there were 3 object columns. Then I filled them all with their own column's mod as seen below. I could also use the replace() function here, or I could assign a NaN value instead of the question mark and continue with the fillna() function."
      ],
      "metadata": {
        "id": "KYuCEZyuIHHd"
      }
    },
    {
      "cell_type": "code",
      "source": [
        "data[\"workclass\"][data[\"workclass\"] == \"?\"] = data[\"workclass\"].mode()[0]\n",
        "data[\"occupation\"][data[\"occupation\"] == \"?\"] = data[\"occupation\"].mode()[0]\n",
        "data[\"native.country\"][data[\"native.country\"] == \"?\"] = data[\"native.country\"].mode()[0]"
      ],
      "metadata": {
        "execution": {
          "iopub.status.busy": "2021-09-02T14:12:34.73869Z",
          "iopub.execute_input": "2021-09-02T14:12:34.739064Z",
          "iopub.status.idle": "2021-09-02T14:12:34.781642Z",
          "shell.execute_reply.started": "2021-09-02T14:12:34.739033Z",
          "shell.execute_reply": "2021-09-02T14:12:34.78059Z"
        },
        "trusted": true,
        "id": "kkDHmgb1IHHd"
      },
      "execution_count": null,
      "outputs": []
    },
    {
      "cell_type": "markdown",
      "source": [
        "\n",
        "> When we check again, we can see that the question marks are gone :)"
      ],
      "metadata": {
        "id": "Cna-X_d8IHHd"
      }
    },
    {
      "cell_type": "code",
      "source": [
        "for column in data.columns:\n",
        "    print(f\"{column} = {data[data[column] == '?'].shape[0]}\")"
      ],
      "metadata": {
        "execution": {
          "iopub.status.busy": "2021-09-02T14:12:50.54698Z",
          "iopub.execute_input": "2021-09-02T14:12:50.547494Z",
          "iopub.status.idle": "2021-09-02T14:12:50.602831Z",
          "shell.execute_reply.started": "2021-09-02T14:12:50.547457Z",
          "shell.execute_reply": "2021-09-02T14:12:50.601849Z"
        },
        "trusted": true,
        "id": "1T4932GOIHHd"
      },
      "execution_count": null,
      "outputs": []
    },
    {
      "cell_type": "markdown",
      "source": [
        "# Outliers"
      ],
      "metadata": {
        "id": "t_j83OAOIHHe"
      }
    },
    {
      "cell_type": "markdown",
      "source": [
        "\n",
        "Datasets with outliers affect the quality of your inferences. For this reason, before starting any analysis, you should definitely determine if there is in your data set and take the necessary precautions. In here, I wanted to look outliers by making a visualization."
      ],
      "metadata": {
        "id": "fm_a2gR_IHHe"
      }
    },
    {
      "cell_type": "code",
      "source": [
        "int_columns = ['age','fnlwgt','education.num','capital.gain','capital.loss','hours.per.week']"
      ],
      "metadata": {
        "execution": {
          "iopub.status.busy": "2021-09-02T14:15:46.956391Z",
          "iopub.execute_input": "2021-09-02T14:15:46.956724Z",
          "iopub.status.idle": "2021-09-02T14:15:46.961194Z",
          "shell.execute_reply.started": "2021-09-02T14:15:46.956696Z",
          "shell.execute_reply": "2021-09-02T14:15:46.960129Z"
        },
        "trusted": true,
        "id": "KIPWTXtlIHHe"
      },
      "execution_count": null,
      "outputs": []
    },
    {
      "cell_type": "code",
      "source": [
        "for i in int_columns:\n",
        "  sns.boxplot(x = data[i])\n",
        "  plt.show()"
      ],
      "metadata": {
        "execution": {
          "iopub.status.busy": "2021-09-02T14:16:07.19818Z",
          "iopub.execute_input": "2021-09-02T14:16:07.198524Z",
          "iopub.status.idle": "2021-09-02T14:16:07.960089Z",
          "shell.execute_reply.started": "2021-09-02T14:16:07.198483Z",
          "shell.execute_reply": "2021-09-02T14:16:07.959149Z"
        },
        "trusted": true,
        "id": "Nf3EAnmpIHHe"
      },
      "execution_count": null,
      "outputs": []
    },
    {
      "cell_type": "markdown",
      "source": [
        "\n",
        "> In this part, I set a quantile to get rid of some of the outlier values and filtered accordingly."
      ],
      "metadata": {
        "id": "wUBWtTTYIHHe"
      }
    },
    {
      "cell_type": "code",
      "source": [
        "q_low = data[\"fnlwgt\"].quantile(0.01)\n",
        "q_hi  = data[\"fnlwgt\"].quantile(0.99)\n",
        "data = data[(data[\"fnlwgt\"] < q_hi) & (data[\"fnlwgt\"] > q_low)]"
      ],
      "metadata": {
        "execution": {
          "iopub.status.busy": "2021-09-02T14:18:08.018768Z",
          "iopub.execute_input": "2021-09-02T14:18:08.019163Z",
          "iopub.status.idle": "2021-09-02T14:18:08.049708Z",
          "shell.execute_reply.started": "2021-09-02T14:18:08.019132Z",
          "shell.execute_reply": "2021-09-02T14:18:08.048757Z"
        },
        "trusted": true,
        "id": "JyXXQfdZIHHe"
      },
      "execution_count": null,
      "outputs": []
    },
    {
      "cell_type": "markdown",
      "source": [
        "\n",
        "> In the other columns, I got rid of the outliers not with quantile, but according to the filters I decided to apply according to the graphics."
      ],
      "metadata": {
        "id": "KNQ8R9AGIHHe"
      }
    },
    {
      "cell_type": "code",
      "source": [
        "data = data[(data['education.num'] <= 16) | (data['education.num'] >= 4)]\n",
        "data = data[data['capital.gain'] <= 60000]\n",
        "data = data[data['capital.loss'] <= 3000]\n",
        "data = data[(data['hours.per.week'] <= 80) | (data['hours.per.week'] >= 20)]"
      ],
      "metadata": {
        "execution": {
          "iopub.status.busy": "2021-09-02T14:20:08.991944Z",
          "iopub.execute_input": "2021-09-02T14:20:08.992301Z",
          "iopub.status.idle": "2021-09-02T14:20:09.018914Z",
          "shell.execute_reply.started": "2021-09-02T14:20:08.992269Z",
          "shell.execute_reply": "2021-09-02T14:20:09.017926Z"
        },
        "trusted": true,
        "id": "DPRuHFf7IHHe"
      },
      "execution_count": null,
      "outputs": []
    },
    {
      "cell_type": "markdown",
      "source": [
        "# Visualizations"
      ],
      "metadata": {
        "id": "0uE-n7YzIHHe"
      }
    },
    {
      "cell_type": "markdown",
      "source": [
        "First, I looked at the average age by country of those who received more than 50K and I graphed it. For this, I first created a temporary data and used the groupby() function over that data."
      ],
      "metadata": {
        "id": "SoeWcMxfIHHe"
      }
    },
    {
      "cell_type": "code",
      "source": [
        "temp = data[data[\"income\"] == '>50K']\n",
        "\n",
        "country_vs_age = data[[\"native.country\",\"income\",\"age\"]].groupby([\"native.country\",\"income\"]).mean()"
      ],
      "metadata": {
        "execution": {
          "iopub.status.busy": "2021-09-02T14:33:29.824441Z",
          "iopub.execute_input": "2021-09-02T14:33:29.824758Z",
          "iopub.status.idle": "2021-09-02T14:33:29.846292Z",
          "shell.execute_reply.started": "2021-09-02T14:33:29.824728Z",
          "shell.execute_reply": "2021-09-02T14:33:29.845463Z"
        },
        "trusted": true,
        "id": "9Y6v233dIHHe"
      },
      "execution_count": null,
      "outputs": []
    },
    {
      "cell_type": "code",
      "source": [
        "country_vs_age = country_vs_age.reset_index()"
      ],
      "metadata": {
        "execution": {
          "iopub.status.busy": "2021-09-02T14:33:30.761701Z",
          "iopub.execute_input": "2021-09-02T14:33:30.762208Z",
          "iopub.status.idle": "2021-09-02T14:33:30.767176Z",
          "shell.execute_reply.started": "2021-09-02T14:33:30.762177Z",
          "shell.execute_reply": "2021-09-02T14:33:30.766304Z"
        },
        "trusted": true,
        "id": "BRQoX-ipIHHe"
      },
      "execution_count": null,
      "outputs": []
    },
    {
      "cell_type": "code",
      "source": [
        "plt.figure(figsize = (20,20))\n",
        "sns.barplot(x = \"age\", y = \"native.country\", data = country_vs_age, palette = \"viridis\")\n",
        "plt.xlabel(\"Mean Age\")\n",
        "plt.ylabel(\"Country\")\n",
        "plt.title(\"Mean Age with >50K Income by Country\")\n",
        "plt.show()"
      ],
      "metadata": {
        "execution": {
          "iopub.status.busy": "2021-09-02T14:33:36.195146Z",
          "iopub.execute_input": "2021-09-02T14:33:36.195657Z",
          "iopub.status.idle": "2021-09-02T14:33:37.882402Z",
          "shell.execute_reply.started": "2021-09-02T14:33:36.195614Z",
          "shell.execute_reply": "2021-09-02T14:33:37.881452Z"
        },
        "trusted": true,
        "id": "RAE-HgkaIHHe"
      },
      "execution_count": null,
      "outputs": []
    },
    {
      "cell_type": "markdown",
      "source": [
        "> Let's look at the education level of those with an income over 50K this time. I could use countplot if I didn't wanted to use the groupby() with count()."
      ],
      "metadata": {
        "id": "YFKs2h1AIHHe"
      }
    },
    {
      "cell_type": "code",
      "source": [
        "education_data = temp.groupby(\"education\")[\"income\"].count()\n",
        "education_data = education_data.reset_index()"
      ],
      "metadata": {
        "execution": {
          "iopub.status.busy": "2021-09-02T14:34:08.061145Z",
          "iopub.execute_input": "2021-09-02T14:34:08.061592Z",
          "iopub.status.idle": "2021-09-02T14:34:08.068513Z",
          "shell.execute_reply.started": "2021-09-02T14:34:08.061563Z",
          "shell.execute_reply": "2021-09-02T14:34:08.067751Z"
        },
        "trusted": true,
        "id": "o1paL3u-IHHf"
      },
      "execution_count": null,
      "outputs": []
    },
    {
      "cell_type": "code",
      "source": [
        "plt.figure(figsize = (25,15))\n",
        "sns.barplot(x = \"education\", y =\"income\", data = education_data, palette = \"viridis\")\n",
        "plt.xlabel(\"Education Level\")\n",
        "plt.ylabel(\">50K Income Count\")\n",
        "plt.title(\">50K Count vs Education Level\")\n",
        "plt.show()"
      ],
      "metadata": {
        "execution": {
          "iopub.status.busy": "2021-09-02T14:39:38.173025Z",
          "iopub.execute_input": "2021-09-02T14:39:38.173435Z",
          "iopub.status.idle": "2021-09-02T14:39:38.459639Z",
          "shell.execute_reply.started": "2021-09-02T14:39:38.173407Z",
          "shell.execute_reply": "2021-09-02T14:39:38.458623Z"
        },
        "trusted": true,
        "id": "v2ZtMtKBIHHf"
      },
      "execution_count": null,
      "outputs": []
    },
    {
      "cell_type": "markdown",
      "source": [
        "> Now we can take a look at the workclasses and age by income that I visualized by using hue instead of groupby function."
      ],
      "metadata": {
        "id": "-vJE4gdIIHHf"
      }
    },
    {
      "cell_type": "code",
      "source": [
        "plt.figure(figsize= (13,13))\n",
        "sns.barplot(x=\"workclass\",y=\"age\", hue=\"income\", data=data, palette = \"viridis\")\n",
        "plt.xlabel(\"Workclass\")\n",
        "plt.ylabel(\"Age\")\n",
        "plt.title(\"Workclass vs Age by Income\")\n",
        "plt.show()"
      ],
      "metadata": {
        "execution": {
          "iopub.status.busy": "2021-09-02T14:43:02.297006Z",
          "iopub.execute_input": "2021-09-02T14:43:02.297351Z",
          "iopub.status.idle": "2021-09-02T14:43:03.396257Z",
          "shell.execute_reply.started": "2021-09-02T14:43:02.297323Z",
          "shell.execute_reply": "2021-09-02T14:43:03.395228Z"
        },
        "trusted": true,
        "id": "cd6wUo9fIHHf"
      },
      "execution_count": null,
      "outputs": []
    },
    {
      "cell_type": "markdown",
      "source": [
        "> Finally, we can see the male and female ratios of those with an income above and below 50K from a pie chart."
      ],
      "metadata": {
        "id": "t1bhKsDBIHHi"
      }
    },
    {
      "cell_type": "code",
      "source": [
        "over_50_data = temp[[\"sex\",\"income\"]].groupby([\"sex\"]).count()\n",
        "over_50_data = over_50_data.reset_index()"
      ],
      "metadata": {
        "execution": {
          "iopub.status.busy": "2021-09-02T14:49:43.049231Z",
          "iopub.execute_input": "2021-09-02T14:49:43.049554Z",
          "iopub.status.idle": "2021-09-02T14:49:43.060738Z",
          "shell.execute_reply.started": "2021-09-02T14:49:43.049527Z",
          "shell.execute_reply": "2021-09-02T14:49:43.059902Z"
        },
        "trusted": true,
        "id": "VwQXoqOrIHHi"
      },
      "execution_count": null,
      "outputs": []
    },
    {
      "cell_type": "code",
      "source": [
        "temp2 = data[data[\"income\"] == '<=50K']\n",
        "less_50_data = temp2[[\"sex\",\"income\"]].groupby([\"sex\"]).count()\n",
        "less_50_data = less_50_data.reset_index()"
      ],
      "metadata": {
        "execution": {
          "iopub.status.busy": "2021-09-02T14:51:16.65868Z",
          "iopub.execute_input": "2021-09-02T14:51:16.65922Z",
          "iopub.status.idle": "2021-09-02T14:51:16.687598Z",
          "shell.execute_reply.started": "2021-09-02T14:51:16.659177Z",
          "shell.execute_reply": "2021-09-02T14:51:16.686841Z"
        },
        "trusted": true,
        "id": "ZowNxHh6IHHj"
      },
      "execution_count": null,
      "outputs": []
    },
    {
      "cell_type": "code",
      "source": [
        "plt.figure(figsize = (10,10))\n",
        "plt.subplot(1,2,1)\n",
        "plt.pie(x = over_50_data[\"income\"], labels = [\"Female\",\"Male\"],colors = [\"palevioletred\",\"paleturquoise\"])\n",
        "plt.title(\">50K\")\n",
        "\n",
        "plt.subplot(1,2,2)\n",
        "plt.pie(x = less_50_data[\"income\"], labels = [\"Female\",\"Male\"], colors = [\"palevioletred\",\"paleturquoise\"])\n",
        "plt.title(\"<=50K\")\n",
        "plt.show()"
      ],
      "metadata": {
        "execution": {
          "iopub.status.busy": "2021-09-02T14:57:56.928019Z",
          "iopub.execute_input": "2021-09-02T14:57:56.92833Z",
          "iopub.status.idle": "2021-09-02T14:57:57.066674Z",
          "shell.execute_reply.started": "2021-09-02T14:57:56.928304Z",
          "shell.execute_reply": "2021-09-02T14:57:57.06582Z"
        },
        "trusted": true,
        "id": "WY1fRsN_IHHj"
      },
      "execution_count": null,
      "outputs": []
    },
    {
      "cell_type": "markdown",
      "source": [
        "> I want to create a model with this data as soon as possible. You can find it on my profile in the future. Thanks :)"
      ],
      "metadata": {
        "id": "rywTp5emIHHj"
      }
    }
  ]
}